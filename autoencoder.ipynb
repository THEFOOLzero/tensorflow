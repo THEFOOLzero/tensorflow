{
 "cells": [
  {
   "cell_type": "code",
   "execution_count": 1,
   "metadata": {
    "collapsed": false
   },
   "outputs": [],
   "source": [
    "import tensorflow as tf\n",
    "import numpy as np\n",
    "import sklearn.preprocessing as prep\n",
    "from tensorflow.examples.tutorials.mnist import input_data"
   ]
  },
  {
   "cell_type": "code",
   "execution_count": 2,
   "metadata": {
    "collapsed": true
   },
   "outputs": [],
   "source": [
    "def xavier_init(fan_in, fan_out, canstant = 1):\n",
    "    low = -canstant*np.sqrt(6.0/(fan_in+fan_out))\n",
    "    high = canstant*np.sqrt(6.0/(fan_in+fan_out))\n",
    "    return tf.random_uniform((fan_in,fan_out),minval=low,maxval=high,dtype=tf.float32)"
   ]
  },
  {
   "cell_type": "code",
   "execution_count": 11,
   "metadata": {
    "collapsed": false
   },
   "outputs": [],
   "source": [
    "class AdditiveGaussianNoiseAutoencode(object):\n",
    "    def __init__(self,n_input,n_hidden,transfer_function=tf.nn.softplus,optimizer=tf.train.AdamOptimizer(),scale=0.1):\n",
    "        self.n_input = n_input\n",
    "        self.n_hidden = n_hidden\n",
    "        self.transfer = transfer_function\n",
    "        self.scale = tf.placeholder(tf.float32)\n",
    "        self.training_scale = scale\n",
    "        network_weights = self._initialize_weights()\n",
    "        self.weight = network_weights\n",
    "        \n",
    "        self.x = tf.placeholder(tf.float32,[None,self.n_input])\n",
    "        self.hidden = self.transfer(tf.add(tf.matmul\\\n",
    "                                           (self.x+scale*tf.random_normal((n_input,)),self.weight['w1']),\\\n",
    "                                           self.weight['b1']))\n",
    "        self.reconstruction = tf.add(tf.matmul(self.hidden,self.weight['w2']),self.weight['b2'])\n",
    "        \n",
    "        \n",
    "        self.cost = 0.5*tf.reduce_sum(tf.pow(tf.subtract(self.reconstruction,self.x),2.0))\n",
    "        self.optimizer = optimizer.minimize(self.cost)\n",
    "        init = tf.global_variables_initializer()\n",
    "        self.sess = tf.Session()\n",
    "        self.sess.run(init)\n",
    "    \n",
    "    def _initialize_weights(self):\n",
    "        all_weights = dict()\n",
    "        all_weights['w1'] = tf.Variable(xavier_init(self.n_input,self.n_hidden))\n",
    "        all_weights['b1'] = tf.Variable(tf.zeros([self.n_hidden],dtype=tf.float32))\n",
    "        all_weights['w2'] = tf.Variable(tf.zeros([self.n_hidden,self.n_input],dtype=tf.float32))\n",
    "        all_weights['b2'] = tf.Variable(tf.zeros([self.n_input],dtype=tf.float32))\n",
    "        return all_weights\n",
    "    \n",
    "    \n",
    "    def partial_fit(self,X):\n",
    "        cost,opt = self.sess.run((self.cost,self.optimizer),\\\n",
    "                                feed_dict={self.x:X,self.scale:self.training_scale})\n",
    "        return cost\n",
    "    \n",
    "    def calc_total_cost(self,X):\n",
    "        return self.sess.run(self.cost,feed_dict={self.x:X,self.scale:self.training_scale})\n",
    "    \n",
    "    def transform(self,X):\n",
    "        return self.sess.run(self.hidden,feed_dict={self.x:X,self.scale:self.training_scale})\n",
    "    \n",
    "    def generate(self,hidden = None):\n",
    "        if hidden == None:\n",
    "            hidden = np.random_normal(size = self.weight['b1'])\n",
    "        return self.sess.run(self.reconstruction,feed_dict={self.hidden:hidden})\n",
    "    \n",
    "    def getweights(self):\n",
    "        return self.sess.run(self.weight['w1'])\n",
    "    \n",
    "    def getbiases(self):\n",
    "        return self.sess.run(self.weight['b1'])"
   ]
  },
  {
   "cell_type": "code",
   "execution_count": 14,
   "metadata": {
    "collapsed": false
   },
   "outputs": [
    {
     "name": "stdout",
     "output_type": "stream",
     "text": [
      "Extracting MNIST_data/train-images-idx3-ubyte.gz\n",
      "Extracting MNIST_data/train-labels-idx1-ubyte.gz\n",
      "Extracting MNIST_data/t10k-images-idx3-ubyte.gz\n",
      "Extracting MNIST_data/t10k-labels-idx1-ubyte.gz\n"
     ]
    }
   ],
   "source": [
    "mnist = input_data.read_data_sets('MNIST_data',one_hot=True)\n",
    "def standard_scale(X_train,X_test):\n",
    "    preprocessor = prep.StandardScaler().fit(X_train)\n",
    "    X_train = preprocessor.transform(X_train)\n",
    "    X_test = preprocessor.transform(X_test)\n",
    "    return X_train,X_test\n",
    "\n",
    "def get_random_block_from_data(data,batch_size):\n",
    "    start_index = np.random.randint(0,len(data)-batch_size)\n",
    "    return data[start_index:(start_index+batch_size)]\n",
    "\n",
    "X_train,X_test = standard_scale(mnist.train.images,mnist.test.images)\n",
    "\n",
    "n_samples = int(mnist.train.num_examples)\n",
    "training_epochs = 20\n",
    "batch_size = 128\n",
    "display_step = 1\n",
    "\n",
    "autoencoder = AdditiveGaussianNoiseAutoencode(n_input=784,n_hidden=200,\\\n",
    "                                             transfer_function = tf.nn.softplus,\\\n",
    "                                            optimizer = tf.train.AdamOptimizer(learning_rate=0.001),\\\n",
    "                                            scale = 0.01)\n"
   ]
  },
  {
   "cell_type": "code",
   "execution_count": 15,
   "metadata": {
    "collapsed": false
   },
   "outputs": [
    {
     "name": "stdout",
     "output_type": "stream",
     "text": [
      "('Epoch:', '0001', 'Cost:', '19695.067627273')\n",
      "('Epoch:', '0002', 'Cost:', '12399.552494318')\n",
      "('Epoch:', '0003', 'Cost:', '10705.669564205')\n",
      "('Epoch:', '0004', 'Cost:', '9686.600039773')\n",
      "('Epoch:', '0005', 'Cost:', '9891.139448295')\n",
      "('Epoch:', '0006', 'Cost:', '9761.786105114')\n",
      "('Epoch:', '0007', 'Cost:', '9414.254188636')\n",
      "('Epoch:', '0008', 'Cost:', '9447.903031818')\n",
      "('Epoch:', '0009', 'Cost:', '8339.237385227')\n",
      "('Epoch:', '0010', 'Cost:', '8123.087101136')\n",
      "('Epoch:', '0011', 'Cost:', '9028.699749432')\n",
      "('Epoch:', '0012', 'Cost:', '7989.269300000')\n",
      "('Epoch:', '0013', 'Cost:', '8066.098240341')\n",
      "('Epoch:', '0014', 'Cost:', '7925.840646591')\n",
      "('Epoch:', '0015', 'Cost:', '7618.230105682')\n",
      "('Epoch:', '0016', 'Cost:', '8229.501899432')\n",
      "('Epoch:', '0017', 'Cost:', '8534.381428977')\n",
      "('Epoch:', '0018', 'Cost:', '7709.351215341')\n",
      "('Epoch:', '0019', 'Cost:', '7740.514997727')\n",
      "('Epoch:', '0020', 'Cost:', '8090.264693750')\n",
      "Total cost: 679826.0\n"
     ]
    }
   ],
   "source": [
    "for epoch in range(training_epochs):\n",
    "    avg_cost = 0.\n",
    "    total_batch = int(n_samples/batch_size)\n",
    "    for i in range(total_batch):\n",
    "        batch_xs = get_random_block_from_data(X_train,batch_size)\n",
    "        \n",
    "        cost = autoencoder.partial_fit(batch_xs)\n",
    "        avg_cost += cost / n_samples * batch_size\n",
    "        \n",
    "        \n",
    "    if epoch % display_step == 0:\n",
    "        print(\"Epoch:\",'%04d' % (epoch+1),\\\n",
    "             \"Cost:\",\"{:.9f}\".format(avg_cost))\n",
    "        \n",
    "        \n",
    "print (\"Total cost: \" + str(autoencoder.calc_total_cost(X_test)))"
   ]
  },
  {
   "cell_type": "code",
   "execution_count": null,
   "metadata": {
    "collapsed": true
   },
   "outputs": [],
   "source": []
  }
 ],
 "metadata": {
  "kernelspec": {
   "display_name": "Python 2",
   "language": "python",
   "name": "python2"
  },
  "language_info": {
   "codemirror_mode": {
    "name": "ipython",
    "version": 2
   },
   "file_extension": ".py",
   "mimetype": "text/x-python",
   "name": "python",
   "nbconvert_exporter": "python",
   "pygments_lexer": "ipython2",
   "version": "2.7.13"
  }
 },
 "nbformat": 4,
 "nbformat_minor": 2
}
